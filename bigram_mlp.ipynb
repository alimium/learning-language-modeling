{
 "cells": [
  {
   "cell_type": "code",
   "execution_count": 2,
   "metadata": {},
   "outputs": [],
   "source": [
    "# import block\n",
    "import torch\n",
    "import matplotlib.pyplot as plt\n",
    "%matplotlib inline\n",
    "\n",
    "# setting the random seed for later use\n",
    "SEED = 42"
   ]
  },
  {
   "cell_type": "code",
   "execution_count": 3,
   "metadata": {},
   "outputs": [
    {
     "data": {
      "text/plain": [
       "32033"
      ]
     },
     "execution_count": 3,
     "metadata": {},
     "output_type": "execute_result"
    }
   ],
   "source": [
    "# open the file and read all the names\n",
    "try:\n",
    "    with open('./data/names.txt', 'r') as f:\n",
    "        names = f.read().splitlines()\n",
    "except FileNotFoundError:\n",
    "    print('No such file found!')\n",
    "\n",
    "# total number of names\n",
    "len(names)"
   ]
  },
  {
   "cell_type": "code",
   "execution_count": 4,
   "metadata": {},
   "outputs": [],
   "source": [
    "# exploring the data\n",
    "br_tkn = '*'\n",
    "chars = list(set(''.join(names)))\n",
    "chars.append(br_tkn)\n",
    "\n",
    "itos = {i: s for i, s in enumerate(sorted(chars))}\n",
    "stoi = {v: k for k, v in itos.items()}"
   ]
  },
  {
   "cell_type": "code",
   "execution_count": 5,
   "metadata": {},
   "outputs": [
    {
     "data": {
      "text/plain": [
       "(228146, 228146)"
      ]
     },
     "execution_count": 5,
     "metadata": {},
     "output_type": "execute_result"
    }
   ],
   "source": [
    "# pairing up the bigrams\n",
    "X, y = [], []\n",
    "for name in names:\n",
    "    name = list(br_tkn) + list(name) + list(br_tkn)\n",
    "    for c1, c2 in zip(name, name[1:]):\n",
    "        X.append(stoi[c1])\n",
    "        y.append(stoi[c2])\n",
    "\n",
    "X = torch.tensor(X)\n",
    "y = torch.tensor(y)\n",
    "\n",
    "len(X), len(y)"
   ]
  },
  {
   "cell_type": "code",
   "execution_count": 16,
   "metadata": {},
   "outputs": [
    {
     "data": {
      "text/plain": [
       "torch.float32"
      ]
     },
     "execution_count": 16,
     "metadata": {},
     "output_type": "execute_result"
    }
   ],
   "source": [
    "# one hot encoding of the datasets\n",
    "import torch.nn.functional as F\n",
    "\n",
    "X_enc = F.one_hot(X, num_classes=27).float()\n",
    "X_enc.dtype"
   ]
  },
  {
   "cell_type": "code",
   "execution_count": 18,
   "metadata": {},
   "outputs": [
    {
     "data": {
      "text/plain": [
       "torch.Size([5, 27])"
      ]
     },
     "execution_count": 18,
     "metadata": {},
     "output_type": "execute_result"
    }
   ],
   "source": [
    "# creating a single layer neural network\n",
    "\n",
    "from torch import nn\n",
    "torch.manual_seed(SEED)\n",
    "model = nn.Sequential(nn.Linear(in_features=27, out_features=27))\n",
    "model(X_enc[:5]).shape"
   ]
  }
 ],
 "metadata": {
  "kernelspec": {
   "display_name": "ai_ml",
   "language": "python",
   "name": "python3"
  },
  "language_info": {
   "codemirror_mode": {
    "name": "ipython",
    "version": 3
   },
   "file_extension": ".py",
   "mimetype": "text/x-python",
   "name": "python",
   "nbconvert_exporter": "python",
   "pygments_lexer": "ipython3",
   "version": "3.9.16"
  },
  "orig_nbformat": 4
 },
 "nbformat": 4,
 "nbformat_minor": 2
}
